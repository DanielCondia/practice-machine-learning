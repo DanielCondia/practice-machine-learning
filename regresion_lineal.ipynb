{
 "cells": [
  {
   "cell_type": "code",
   "id": "initial_id",
   "metadata": {
    "collapsed": true,
    "ExecuteTime": {
     "end_time": "2025-09-17T20:55:05.441224Z",
     "start_time": "2025-09-17T20:55:05.419108Z"
    }
   },
   "source": [
    "import pandas as pd\n",
    "from sklearn.model_selection import train_test_split\n",
    "\n",
    "# cargar datos\n",
    "df_partidos = pd.read_csv('./csv/data_csv.csv')\n",
    "df_partidos['diferencia_goles'] = df_partidos['goles_local'] - df_partidos['goles_visitante']\n",
    "\n",
    "# Variables predictoras\n",
    "x = df_partidos[['posesion_local (%)', 'tiros_arco_local']]\n",
    "y = df_partidos['diferencia_goles']\n",
    "\n",
    "# división estándar\n",
    "x_train, x_test, y_train, y_test = train_test_split(x, y, test_size=0.2, random_state=42)\n",
    "\n",
    "print('Variables independientes - Conjunto de entrenamiento (primeros registros):')\n",
    "display(x_train.head())\n",
    "\n",
    "print('\\nVariables independientes - Conjunto de prueba (primeros registros):')\n",
    "display(x_test.head())\n"
   ],
   "outputs": [
    {
     "name": "stdout",
     "output_type": "stream",
     "text": [
      "Variables independientes - Conjunto de entrenamiento (primeros registros):\n"
     ]
    },
    {
     "data": {
      "text/plain": [
       "    posesion_local (%)  tiros_arco_local\n",
       "55                  51                 6\n",
       "88                  54                 9\n",
       "26                  53                 4\n",
       "42                  52                 4\n",
       "69                  60                 9"
      ],
      "text/html": [
       "<div>\n",
       "<style scoped>\n",
       "    .dataframe tbody tr th:only-of-type {\n",
       "        vertical-align: middle;\n",
       "    }\n",
       "\n",
       "    .dataframe tbody tr th {\n",
       "        vertical-align: top;\n",
       "    }\n",
       "\n",
       "    .dataframe thead th {\n",
       "        text-align: right;\n",
       "    }\n",
       "</style>\n",
       "<table border=\"1\" class=\"dataframe\">\n",
       "  <thead>\n",
       "    <tr style=\"text-align: right;\">\n",
       "      <th></th>\n",
       "      <th>posesion_local (%)</th>\n",
       "      <th>tiros_arco_local</th>\n",
       "    </tr>\n",
       "  </thead>\n",
       "  <tbody>\n",
       "    <tr>\n",
       "      <th>55</th>\n",
       "      <td>51</td>\n",
       "      <td>6</td>\n",
       "    </tr>\n",
       "    <tr>\n",
       "      <th>88</th>\n",
       "      <td>54</td>\n",
       "      <td>9</td>\n",
       "    </tr>\n",
       "    <tr>\n",
       "      <th>26</th>\n",
       "      <td>53</td>\n",
       "      <td>4</td>\n",
       "    </tr>\n",
       "    <tr>\n",
       "      <th>42</th>\n",
       "      <td>52</td>\n",
       "      <td>4</td>\n",
       "    </tr>\n",
       "    <tr>\n",
       "      <th>69</th>\n",
       "      <td>60</td>\n",
       "      <td>9</td>\n",
       "    </tr>\n",
       "  </tbody>\n",
       "</table>\n",
       "</div>"
      ]
     },
     "metadata": {},
     "output_type": "display_data",
     "jetTransient": {
      "display_id": null
     }
    },
    {
     "name": "stdout",
     "output_type": "stream",
     "text": [
      "\n",
      "Variables independientes - Conjunto de prueba (primeros registros):\n"
     ]
    },
    {
     "data": {
      "text/plain": [
       "    posesion_local (%)  tiros_arco_local\n",
       "83                  47                 3\n",
       "53                  60                 3\n",
       "70                  50                 5\n",
       "45                  57                 7\n",
       "44                  45                 5"
      ],
      "text/html": [
       "<div>\n",
       "<style scoped>\n",
       "    .dataframe tbody tr th:only-of-type {\n",
       "        vertical-align: middle;\n",
       "    }\n",
       "\n",
       "    .dataframe tbody tr th {\n",
       "        vertical-align: top;\n",
       "    }\n",
       "\n",
       "    .dataframe thead th {\n",
       "        text-align: right;\n",
       "    }\n",
       "</style>\n",
       "<table border=\"1\" class=\"dataframe\">\n",
       "  <thead>\n",
       "    <tr style=\"text-align: right;\">\n",
       "      <th></th>\n",
       "      <th>posesion_local (%)</th>\n",
       "      <th>tiros_arco_local</th>\n",
       "    </tr>\n",
       "  </thead>\n",
       "  <tbody>\n",
       "    <tr>\n",
       "      <th>83</th>\n",
       "      <td>47</td>\n",
       "      <td>3</td>\n",
       "    </tr>\n",
       "    <tr>\n",
       "      <th>53</th>\n",
       "      <td>60</td>\n",
       "      <td>3</td>\n",
       "    </tr>\n",
       "    <tr>\n",
       "      <th>70</th>\n",
       "      <td>50</td>\n",
       "      <td>5</td>\n",
       "    </tr>\n",
       "    <tr>\n",
       "      <th>45</th>\n",
       "      <td>57</td>\n",
       "      <td>7</td>\n",
       "    </tr>\n",
       "    <tr>\n",
       "      <th>44</th>\n",
       "      <td>45</td>\n",
       "      <td>5</td>\n",
       "    </tr>\n",
       "  </tbody>\n",
       "</table>\n",
       "</div>"
      ]
     },
     "metadata": {},
     "output_type": "display_data",
     "jetTransient": {
      "display_id": null
     }
    }
   ],
   "execution_count": 5
  },
  {
   "metadata": {
    "ExecuteTime": {
     "end_time": "2025-09-17T20:56:22.572329Z",
     "start_time": "2025-09-17T20:56:21.750785Z"
    }
   },
   "cell_type": "code",
   "source": [
    "from sklearn.linear_model import LinearRegression\n",
    "\n",
    "# Instanciar y entrenar modelo\n",
    "modelo_rl = LinearRegression()\n",
    "modelo_rl.fit(x_train, y_train)\n",
    "\n",
    "print('Modelo entrenado!!')"
   ],
   "id": "e8c559a938dc2596",
   "outputs": [
    {
     "name": "stdout",
     "output_type": "stream",
     "text": [
      "Modelo entrenado!!\n"
     ]
    }
   ],
   "execution_count": 6
  },
  {
   "metadata": {
    "ExecuteTime": {
     "end_time": "2025-09-17T21:03:01.734258Z",
     "start_time": "2025-09-17T21:03:01.726754Z"
    }
   },
   "cell_type": "code",
   "source": [
    "print(f'Intercepto: {modelo_rl.intercept_}')\n",
    "print(f'Coeficientes: {modelo_rl.coef_}')"
   ],
   "id": "3a32508c6fd41fe5",
   "outputs": [
    {
     "name": "stdout",
     "output_type": "stream",
     "text": [
      "Intercepto: -2.5257192572329763\n",
      "Coeficientes: [ 0.05596278 -0.05125811]\n"
     ]
    }
   ],
   "execution_count": 7
  },
  {
   "metadata": {
    "ExecuteTime": {
     "end_time": "2025-09-17T21:35:39.820818Z",
     "start_time": "2025-09-17T21:35:39.741438Z"
    }
   },
   "cell_type": "code",
   "source": [
    "# hacer Predicciones\n",
    "y_pred = modelo_rl.predict(x_test)\n",
    "\n",
    "# Comparar predicciones vs valores reales\n",
    "df_resultados = x_test.copy()\n",
    "df_resultados['Diferencia_Goles_Real'] = y_test\n",
    "df_resultados['Diferencia_Goles_Predicha'] = y_pred.round(2)\n",
    "\n",
    "df_resultados.head(10)"
   ],
   "id": "b1c4c0b88d0b7679",
   "outputs": [
    {
     "data": {
      "text/plain": [
       "    posesion_local (%)  tiros_arco_local  Diferencia_Goles_Real  \\\n",
       "83                  47                 3                      3   \n",
       "53                  60                 3                      3   \n",
       "70                  50                 5                      0   \n",
       "45                  57                 7                      3   \n",
       "44                  45                 5                      5   \n",
       "39                  60                 7                      3   \n",
       "22                  45                11                      0   \n",
       "80                  49                 5                      1   \n",
       "10                  48                 5                     -2   \n",
       "0                   54                12                      2   \n",
       "\n",
       "    Diferencia_Goles_Predicha  \n",
       "83                      -0.05  \n",
       "53                       0.68  \n",
       "70                       0.02  \n",
       "45                       0.31  \n",
       "44                      -0.26  \n",
       "39                       0.47  \n",
       "22                      -0.57  \n",
       "80                      -0.04  \n",
       "10                      -0.10  \n",
       "0                       -0.12  "
      ],
      "text/html": [
       "<div>\n",
       "<style scoped>\n",
       "    .dataframe tbody tr th:only-of-type {\n",
       "        vertical-align: middle;\n",
       "    }\n",
       "\n",
       "    .dataframe tbody tr th {\n",
       "        vertical-align: top;\n",
       "    }\n",
       "\n",
       "    .dataframe thead th {\n",
       "        text-align: right;\n",
       "    }\n",
       "</style>\n",
       "<table border=\"1\" class=\"dataframe\">\n",
       "  <thead>\n",
       "    <tr style=\"text-align: right;\">\n",
       "      <th></th>\n",
       "      <th>posesion_local (%)</th>\n",
       "      <th>tiros_arco_local</th>\n",
       "      <th>Diferencia_Goles_Real</th>\n",
       "      <th>Diferencia_Goles_Predicha</th>\n",
       "    </tr>\n",
       "  </thead>\n",
       "  <tbody>\n",
       "    <tr>\n",
       "      <th>83</th>\n",
       "      <td>47</td>\n",
       "      <td>3</td>\n",
       "      <td>3</td>\n",
       "      <td>-0.05</td>\n",
       "    </tr>\n",
       "    <tr>\n",
       "      <th>53</th>\n",
       "      <td>60</td>\n",
       "      <td>3</td>\n",
       "      <td>3</td>\n",
       "      <td>0.68</td>\n",
       "    </tr>\n",
       "    <tr>\n",
       "      <th>70</th>\n",
       "      <td>50</td>\n",
       "      <td>5</td>\n",
       "      <td>0</td>\n",
       "      <td>0.02</td>\n",
       "    </tr>\n",
       "    <tr>\n",
       "      <th>45</th>\n",
       "      <td>57</td>\n",
       "      <td>7</td>\n",
       "      <td>3</td>\n",
       "      <td>0.31</td>\n",
       "    </tr>\n",
       "    <tr>\n",
       "      <th>44</th>\n",
       "      <td>45</td>\n",
       "      <td>5</td>\n",
       "      <td>5</td>\n",
       "      <td>-0.26</td>\n",
       "    </tr>\n",
       "    <tr>\n",
       "      <th>39</th>\n",
       "      <td>60</td>\n",
       "      <td>7</td>\n",
       "      <td>3</td>\n",
       "      <td>0.47</td>\n",
       "    </tr>\n",
       "    <tr>\n",
       "      <th>22</th>\n",
       "      <td>45</td>\n",
       "      <td>11</td>\n",
       "      <td>0</td>\n",
       "      <td>-0.57</td>\n",
       "    </tr>\n",
       "    <tr>\n",
       "      <th>80</th>\n",
       "      <td>49</td>\n",
       "      <td>5</td>\n",
       "      <td>1</td>\n",
       "      <td>-0.04</td>\n",
       "    </tr>\n",
       "    <tr>\n",
       "      <th>10</th>\n",
       "      <td>48</td>\n",
       "      <td>5</td>\n",
       "      <td>-2</td>\n",
       "      <td>-0.10</td>\n",
       "    </tr>\n",
       "    <tr>\n",
       "      <th>0</th>\n",
       "      <td>54</td>\n",
       "      <td>12</td>\n",
       "      <td>2</td>\n",
       "      <td>-0.12</td>\n",
       "    </tr>\n",
       "  </tbody>\n",
       "</table>\n",
       "</div>"
      ]
     },
     "execution_count": 8,
     "metadata": {},
     "output_type": "execute_result"
    }
   ],
   "execution_count": 8
  },
  {
   "metadata": {
    "ExecuteTime": {
     "end_time": "2025-09-17T21:38:28.972640Z",
     "start_time": "2025-09-17T21:38:28.699909Z"
    }
   },
   "cell_type": "code",
   "source": [
    "import matplotlib.pyplot as plt\n",
    "import seaborn as sns\n",
    "\n",
    "plt.figure(figsize=(10, 6))\n",
    "sns.scatterplot(data=df_resultados, x='Diferencia_Goles_Real', y='Diferencia_Goles_Predicha')\n",
    "plt.xlabel('Diferencia de Goles Reales')\n",
    "plt.ylabel('Diferencia de Goles Predichas')\n",
    "plt.title('Comparación de Diferencia de Goles Reales vs Predichas')\n",
    "plt.axline((0,0), slope=1, color='red', linestyle='--')\n",
    "plt.show()\n"
   ],
   "id": "dd68482ff8bce1a5",
   "outputs": [
    {
     "data": {
      "text/plain": [
       "<Figure size 1000x600 with 1 Axes>"
      ],
      "image/png": "[encoded data removed]"
     },
     "metadata": {},
     "output_type": "display_data",
     "jetTransient": {
      "display_id": null
     }
    }
   ],
   "execution_count": 10
  }
 ],
 "metadata": {
  "kernelspec": {
   "display_name": "Python 3",
   "language": "python",
   "name": "python3"
  },
  "language_info": {
   "codemirror_mode": {
    "name": "ipython",
    "version": 2
   },
   "file_extension": ".py",
   "mimetype": "text/x-python",
   "name": "python",
   "nbconvert_exporter": "python",
   "pygments_lexer": "ipython2",
   "version": "2.7.6"
  }
 },
 "nbformat": 4,
 "nbformat_minor": 5
}
